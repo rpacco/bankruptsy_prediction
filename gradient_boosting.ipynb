{
 "cells": [
  {
   "cell_type": "code",
   "execution_count": 53,
   "metadata": {},
   "outputs": [],
   "source": [
    "import pickle\n",
    "import pandas as pd\n",
    "from imblearn.over_sampling import RandomOverSampler\n",
    "from sklearn.ensemble import GradientBoostingClassifier\n",
    "from sklearn.impute import SimpleImputer\n",
    "from sklearn.metrics import (\n",
    "    ConfusionMatrixDisplay,\n",
    "    classification_report,\n",
    "    confusion_matrix,\n",
    "    precision_recall_curve,\n",
    "    auc\n",
    ")\n",
    "from sklearn.model_selection import GridSearchCV, train_test_split\n",
    "from sklearn.pipeline import make_pipeline\n",
    "import data_dictionary\n",
    "import matplotlib.pyplot as plt"
   ]
  },
  {
   "attachments": {},
   "cell_type": "markdown",
   "metadata": {},
   "source": [
    "# Data Import"
   ]
  },
  {
   "cell_type": "code",
   "execution_count": 2,
   "metadata": {},
   "outputs": [
    {
     "name": "stdout",
     "output_type": "stream",
     "text": [
      "(9792, 65)\n"
     ]
    },
    {
     "data": {
      "text/html": [
       "<div>\n",
       "<style scoped>\n",
       "    .dataframe tbody tr th:only-of-type {\n",
       "        vertical-align: middle;\n",
       "    }\n",
       "\n",
       "    .dataframe tbody tr th {\n",
       "        vertical-align: top;\n",
       "    }\n",
       "\n",
       "    .dataframe thead th {\n",
       "        text-align: right;\n",
       "    }\n",
       "</style>\n",
       "<table border=\"1\" class=\"dataframe\">\n",
       "  <thead>\n",
       "    <tr style=\"text-align: right;\">\n",
       "      <th></th>\n",
       "      <th>feat_1</th>\n",
       "      <th>feat_2</th>\n",
       "      <th>feat_3</th>\n",
       "      <th>feat_4</th>\n",
       "      <th>feat_5</th>\n",
       "      <th>feat_6</th>\n",
       "      <th>feat_7</th>\n",
       "      <th>feat_8</th>\n",
       "      <th>feat_9</th>\n",
       "      <th>feat_10</th>\n",
       "      <th>...</th>\n",
       "      <th>feat_56</th>\n",
       "      <th>feat_57</th>\n",
       "      <th>feat_58</th>\n",
       "      <th>feat_59</th>\n",
       "      <th>feat_60</th>\n",
       "      <th>feat_61</th>\n",
       "      <th>feat_62</th>\n",
       "      <th>feat_63</th>\n",
       "      <th>feat_64</th>\n",
       "      <th>bankrupt</th>\n",
       "    </tr>\n",
       "  </thead>\n",
       "  <tbody>\n",
       "    <tr>\n",
       "      <th>0</th>\n",
       "      <td>0.159290</td>\n",
       "      <td>0.46240</td>\n",
       "      <td>0.07773</td>\n",
       "      <td>1.1683</td>\n",
       "      <td>-44.853</td>\n",
       "      <td>0.467020</td>\n",
       "      <td>0.189480</td>\n",
       "      <td>0.82895</td>\n",
       "      <td>1.1223</td>\n",
       "      <td>0.38330</td>\n",
       "      <td>...</td>\n",
       "      <td>0.108990</td>\n",
       "      <td>0.41557</td>\n",
       "      <td>0.89101</td>\n",
       "      <td>0.001422</td>\n",
       "      <td>7.7928</td>\n",
       "      <td>4.9914</td>\n",
       "      <td>119.810</td>\n",
       "      <td>3.0465</td>\n",
       "      <td>3.0560</td>\n",
       "      <td>0</td>\n",
       "    </tr>\n",
       "    <tr>\n",
       "      <th>1</th>\n",
       "      <td>-0.127430</td>\n",
       "      <td>0.46243</td>\n",
       "      <td>0.26917</td>\n",
       "      <td>1.7517</td>\n",
       "      <td>7.597</td>\n",
       "      <td>0.000925</td>\n",
       "      <td>-0.127430</td>\n",
       "      <td>1.16250</td>\n",
       "      <td>1.2944</td>\n",
       "      <td>0.53757</td>\n",
       "      <td>...</td>\n",
       "      <td>-0.089372</td>\n",
       "      <td>-0.23704</td>\n",
       "      <td>1.06250</td>\n",
       "      <td>0.150410</td>\n",
       "      <td>5.4327</td>\n",
       "      <td>3.4629</td>\n",
       "      <td>100.970</td>\n",
       "      <td>3.6150</td>\n",
       "      <td>3.4725</td>\n",
       "      <td>0</td>\n",
       "    </tr>\n",
       "    <tr>\n",
       "      <th>2</th>\n",
       "      <td>0.070488</td>\n",
       "      <td>0.23570</td>\n",
       "      <td>0.52781</td>\n",
       "      <td>3.2393</td>\n",
       "      <td>125.680</td>\n",
       "      <td>0.163670</td>\n",
       "      <td>0.086895</td>\n",
       "      <td>2.87180</td>\n",
       "      <td>1.0574</td>\n",
       "      <td>0.67689</td>\n",
       "      <td>...</td>\n",
       "      <td>0.054286</td>\n",
       "      <td>0.10413</td>\n",
       "      <td>0.94571</td>\n",
       "      <td>0.000000</td>\n",
       "      <td>7.1070</td>\n",
       "      <td>3.3808</td>\n",
       "      <td>76.076</td>\n",
       "      <td>4.7978</td>\n",
       "      <td>4.7818</td>\n",
       "      <td>0</td>\n",
       "    </tr>\n",
       "    <tr>\n",
       "      <th>3</th>\n",
       "      <td>0.136760</td>\n",
       "      <td>0.40538</td>\n",
       "      <td>0.31543</td>\n",
       "      <td>1.8705</td>\n",
       "      <td>19.115</td>\n",
       "      <td>0.504970</td>\n",
       "      <td>0.136760</td>\n",
       "      <td>1.45390</td>\n",
       "      <td>1.1144</td>\n",
       "      <td>0.58938</td>\n",
       "      <td>...</td>\n",
       "      <td>0.102630</td>\n",
       "      <td>0.23203</td>\n",
       "      <td>0.89737</td>\n",
       "      <td>0.073024</td>\n",
       "      <td>6.1384</td>\n",
       "      <td>4.2241</td>\n",
       "      <td>88.299</td>\n",
       "      <td>4.1337</td>\n",
       "      <td>4.6484</td>\n",
       "      <td>0</td>\n",
       "    </tr>\n",
       "    <tr>\n",
       "      <th>4</th>\n",
       "      <td>-0.110080</td>\n",
       "      <td>0.69793</td>\n",
       "      <td>0.18878</td>\n",
       "      <td>1.2713</td>\n",
       "      <td>-15.344</td>\n",
       "      <td>0.000000</td>\n",
       "      <td>-0.110080</td>\n",
       "      <td>0.43282</td>\n",
       "      <td>1.7350</td>\n",
       "      <td>0.30207</td>\n",
       "      <td>...</td>\n",
       "      <td>0.439880</td>\n",
       "      <td>-0.36440</td>\n",
       "      <td>0.57153</td>\n",
       "      <td>0.000000</td>\n",
       "      <td>18.8010</td>\n",
       "      <td>2.7925</td>\n",
       "      <td>146.390</td>\n",
       "      <td>2.4934</td>\n",
       "      <td>15.0360</td>\n",
       "      <td>0</td>\n",
       "    </tr>\n",
       "  </tbody>\n",
       "</table>\n",
       "<p>5 rows × 65 columns</p>\n",
       "</div>"
      ],
      "text/plain": [
       "     feat_1   feat_2   feat_3  feat_4   feat_5    feat_6    feat_7   feat_8   \n",
       "0  0.159290  0.46240  0.07773  1.1683  -44.853  0.467020  0.189480  0.82895  \\\n",
       "1 -0.127430  0.46243  0.26917  1.7517    7.597  0.000925 -0.127430  1.16250   \n",
       "2  0.070488  0.23570  0.52781  3.2393  125.680  0.163670  0.086895  2.87180   \n",
       "3  0.136760  0.40538  0.31543  1.8705   19.115  0.504970  0.136760  1.45390   \n",
       "4 -0.110080  0.69793  0.18878  1.2713  -15.344  0.000000 -0.110080  0.43282   \n",
       "\n",
       "   feat_9  feat_10  ...   feat_56  feat_57  feat_58   feat_59  feat_60   \n",
       "0  1.1223  0.38330  ...  0.108990  0.41557  0.89101  0.001422   7.7928  \\\n",
       "1  1.2944  0.53757  ... -0.089372 -0.23704  1.06250  0.150410   5.4327   \n",
       "2  1.0574  0.67689  ...  0.054286  0.10413  0.94571  0.000000   7.1070   \n",
       "3  1.1144  0.58938  ...  0.102630  0.23203  0.89737  0.073024   6.1384   \n",
       "4  1.7350  0.30207  ...  0.439880 -0.36440  0.57153  0.000000  18.8010   \n",
       "\n",
       "   feat_61  feat_62  feat_63  feat_64  bankrupt  \n",
       "0   4.9914  119.810   3.0465   3.0560         0  \n",
       "1   3.4629  100.970   3.6150   3.4725         0  \n",
       "2   3.3808   76.076   4.7978   4.7818         0  \n",
       "3   4.2241   88.299   4.1337   4.6484         0  \n",
       "4   2.7925  146.390   2.4934  15.0360         0  \n",
       "\n",
       "[5 rows x 65 columns]"
      ]
     },
     "execution_count": 2,
     "metadata": {},
     "output_type": "execute_result"
    }
   ],
   "source": [
    "df = pd.read_csv(\"bankrupt_data.csv\")\n",
    "print(df.shape)\n",
    "df.head()"
   ]
  },
  {
   "attachments": {},
   "cell_type": "markdown",
   "metadata": {},
   "source": [
    "# Split data"
   ]
  },
  {
   "cell_type": "code",
   "execution_count": 3,
   "metadata": {},
   "outputs": [
    {
     "name": "stdout",
     "output_type": "stream",
     "text": [
      "X shape: (9792, 64)\n",
      "y shape: (9792,)\n"
     ]
    }
   ],
   "source": [
    "# splitting data into feature matrix X and target vector y\n",
    "target = \"bankrupt\"\n",
    "X = df.drop(columns=target)\n",
    "y = df[target]\n",
    "\n",
    "print(f\"X shape: {X.shape}\")\n",
    "print(f\"y shape: {y.shape}\")"
   ]
  },
  {
   "cell_type": "code",
   "execution_count": 4,
   "metadata": {},
   "outputs": [
    {
     "name": "stdout",
     "output_type": "stream",
     "text": [
      "X_train shape: (7833, 64)\n",
      "y_train shape: (7833,)\n",
      "X_test shape:  (1959, 64)\n",
      "y_test shape:  (1959,)\n"
     ]
    }
   ],
   "source": [
    "# divide into train and test subsets\n",
    "X_train, X_test, y_train, y_test = train_test_split(X, y, test_size=0.2, random_state=42)\n",
    "\n",
    "print(f\"X_train shape: {X_train.shape}\")\n",
    "print(f\"y_train shape: {y_train.shape}\")\n",
    "print(f\"X_test shape:  {X_test.shape}\")\n",
    "print(f\"y_test shape:  {y_test.shape}\")"
   ]
  },
  {
   "attachments": {},
   "cell_type": "markdown",
   "metadata": {},
   "source": [
    "## Resample minority class (oversampling)"
   ]
  },
  {
   "cell_type": "code",
   "execution_count": 5,
   "metadata": {},
   "outputs": [
    {
     "name": "stdout",
     "output_type": "stream",
     "text": [
      "X_train_over shape: (14842, 64)\n"
     ]
    },
    {
     "data": {
      "text/html": [
       "<div>\n",
       "<style scoped>\n",
       "    .dataframe tbody tr th:only-of-type {\n",
       "        vertical-align: middle;\n",
       "    }\n",
       "\n",
       "    .dataframe tbody tr th {\n",
       "        vertical-align: top;\n",
       "    }\n",
       "\n",
       "    .dataframe thead th {\n",
       "        text-align: right;\n",
       "    }\n",
       "</style>\n",
       "<table border=\"1\" class=\"dataframe\">\n",
       "  <thead>\n",
       "    <tr style=\"text-align: right;\">\n",
       "      <th></th>\n",
       "      <th>feat_1</th>\n",
       "      <th>feat_2</th>\n",
       "      <th>feat_3</th>\n",
       "      <th>feat_4</th>\n",
       "      <th>feat_5</th>\n",
       "      <th>feat_6</th>\n",
       "      <th>feat_7</th>\n",
       "      <th>feat_8</th>\n",
       "      <th>feat_9</th>\n",
       "      <th>feat_10</th>\n",
       "      <th>...</th>\n",
       "      <th>feat_55</th>\n",
       "      <th>feat_56</th>\n",
       "      <th>feat_57</th>\n",
       "      <th>feat_58</th>\n",
       "      <th>feat_59</th>\n",
       "      <th>feat_60</th>\n",
       "      <th>feat_61</th>\n",
       "      <th>feat_62</th>\n",
       "      <th>feat_63</th>\n",
       "      <th>feat_64</th>\n",
       "    </tr>\n",
       "  </thead>\n",
       "  <tbody>\n",
       "    <tr>\n",
       "      <th>0</th>\n",
       "      <td>0.069548</td>\n",
       "      <td>0.69574</td>\n",
       "      <td>0.055553</td>\n",
       "      <td>1.0897</td>\n",
       "      <td>-27.2160</td>\n",
       "      <td>-0.264400</td>\n",
       "      <td>0.069113</td>\n",
       "      <td>0.36634</td>\n",
       "      <td>1.0355</td>\n",
       "      <td>0.25488</td>\n",
       "      <td>...</td>\n",
       "      <td>580.85</td>\n",
       "      <td>0.034314</td>\n",
       "      <td>0.272870</td>\n",
       "      <td>0.96569</td>\n",
       "      <td>0.30020</td>\n",
       "      <td>10.9890</td>\n",
       "      <td>6.4865</td>\n",
       "      <td>85.355</td>\n",
       "      <td>4.2762</td>\n",
       "      <td>8.1421</td>\n",
       "    </tr>\n",
       "    <tr>\n",
       "      <th>1</th>\n",
       "      <td>-0.084151</td>\n",
       "      <td>0.62034</td>\n",
       "      <td>0.114540</td>\n",
       "      <td>1.2505</td>\n",
       "      <td>-5.9921</td>\n",
       "      <td>0.000000</td>\n",
       "      <td>-0.084151</td>\n",
       "      <td>0.61202</td>\n",
       "      <td>1.6597</td>\n",
       "      <td>0.37966</td>\n",
       "      <td>...</td>\n",
       "      <td>557.14</td>\n",
       "      <td>-0.121260</td>\n",
       "      <td>-0.221650</td>\n",
       "      <td>1.04600</td>\n",
       "      <td>0.00000</td>\n",
       "      <td>11.5100</td>\n",
       "      <td>7.3495</td>\n",
       "      <td>100.560</td>\n",
       "      <td>3.6295</td>\n",
       "      <td>3.8759</td>\n",
       "    </tr>\n",
       "    <tr>\n",
       "      <th>2</th>\n",
       "      <td>0.081425</td>\n",
       "      <td>0.10163</td>\n",
       "      <td>0.424230</td>\n",
       "      <td>5.1741</td>\n",
       "      <td>124.5500</td>\n",
       "      <td>0.297150</td>\n",
       "      <td>0.101460</td>\n",
       "      <td>8.52550</td>\n",
       "      <td>1.1220</td>\n",
       "      <td>0.86647</td>\n",
       "      <td>...</td>\n",
       "      <td>18200.00</td>\n",
       "      <td>0.108710</td>\n",
       "      <td>0.093974</td>\n",
       "      <td>0.89129</td>\n",
       "      <td>0.00000</td>\n",
       "      <td>5.5087</td>\n",
       "      <td>3.9838</td>\n",
       "      <td>41.429</td>\n",
       "      <td>8.8102</td>\n",
       "      <td>1.8885</td>\n",
       "    </tr>\n",
       "    <tr>\n",
       "      <th>3</th>\n",
       "      <td>0.011690</td>\n",
       "      <td>0.80729</td>\n",
       "      <td>-0.216890</td>\n",
       "      <td>0.6474</td>\n",
       "      <td>-124.9500</td>\n",
       "      <td>-0.037361</td>\n",
       "      <td>0.011781</td>\n",
       "      <td>0.23871</td>\n",
       "      <td>1.0410</td>\n",
       "      <td>0.19271</td>\n",
       "      <td>...</td>\n",
       "      <td>-3420.70</td>\n",
       "      <td>0.039353</td>\n",
       "      <td>0.060664</td>\n",
       "      <td>0.96065</td>\n",
       "      <td>0.99729</td>\n",
       "      <td>17.1860</td>\n",
       "      <td>2.5425</td>\n",
       "      <td>259.880</td>\n",
       "      <td>1.4045</td>\n",
       "      <td>1.4356</td>\n",
       "    </tr>\n",
       "    <tr>\n",
       "      <th>4</th>\n",
       "      <td>0.000917</td>\n",
       "      <td>0.33013</td>\n",
       "      <td>0.591420</td>\n",
       "      <td>2.8261</td>\n",
       "      <td>-30.7370</td>\n",
       "      <td>0.000000</td>\n",
       "      <td>0.000917</td>\n",
       "      <td>2.02910</td>\n",
       "      <td>1.4833</td>\n",
       "      <td>0.66987</td>\n",
       "      <td>...</td>\n",
       "      <td>3355.10</td>\n",
       "      <td>0.270390</td>\n",
       "      <td>0.001369</td>\n",
       "      <td>0.73336</td>\n",
       "      <td>0.00000</td>\n",
       "      <td>2.2321</td>\n",
       "      <td>6.9965</td>\n",
       "      <td>79.698</td>\n",
       "      <td>4.5798</td>\n",
       "      <td>17.5120</td>\n",
       "    </tr>\n",
       "  </tbody>\n",
       "</table>\n",
       "<p>5 rows × 64 columns</p>\n",
       "</div>"
      ],
      "text/plain": [
       "     feat_1   feat_2    feat_3  feat_4    feat_5    feat_6    feat_7   feat_8   \n",
       "0  0.069548  0.69574  0.055553  1.0897  -27.2160 -0.264400  0.069113  0.36634  \\\n",
       "1 -0.084151  0.62034  0.114540  1.2505   -5.9921  0.000000 -0.084151  0.61202   \n",
       "2  0.081425  0.10163  0.424230  5.1741  124.5500  0.297150  0.101460  8.52550   \n",
       "3  0.011690  0.80729 -0.216890  0.6474 -124.9500 -0.037361  0.011781  0.23871   \n",
       "4  0.000917  0.33013  0.591420  2.8261  -30.7370  0.000000  0.000917  2.02910   \n",
       "\n",
       "   feat_9  feat_10  ...   feat_55   feat_56   feat_57  feat_58  feat_59   \n",
       "0  1.0355  0.25488  ...    580.85  0.034314  0.272870  0.96569  0.30020  \\\n",
       "1  1.6597  0.37966  ...    557.14 -0.121260 -0.221650  1.04600  0.00000   \n",
       "2  1.1220  0.86647  ...  18200.00  0.108710  0.093974  0.89129  0.00000   \n",
       "3  1.0410  0.19271  ...  -3420.70  0.039353  0.060664  0.96065  0.99729   \n",
       "4  1.4833  0.66987  ...   3355.10  0.270390  0.001369  0.73336  0.00000   \n",
       "\n",
       "   feat_60  feat_61  feat_62  feat_63  feat_64  \n",
       "0  10.9890   6.4865   85.355   4.2762   8.1421  \n",
       "1  11.5100   7.3495  100.560   3.6295   3.8759  \n",
       "2   5.5087   3.9838   41.429   8.8102   1.8885  \n",
       "3  17.1860   2.5425  259.880   1.4045   1.4356  \n",
       "4   2.2321   6.9965   79.698   4.5798  17.5120  \n",
       "\n",
       "[5 rows x 64 columns]"
      ]
     },
     "execution_count": 5,
     "metadata": {},
     "output_type": "execute_result"
    }
   ],
   "source": [
    "# Oversampling feature matrix and target vector\n",
    "over_sampler = RandomOverSampler(random_state=42)\n",
    "X_train_over, y_train_over = over_sampler.fit_resample(X_train, y_train)\n",
    "print(f\"X_train_over shape: {X_train_over.shape}\")\n",
    "X_train_over.head()"
   ]
  },
  {
   "attachments": {},
   "cell_type": "markdown",
   "metadata": {},
   "source": [
    "# Buiding model"
   ]
  },
  {
   "attachments": {},
   "cell_type": "markdown",
   "metadata": {},
   "source": [
    "## Baseline"
   ]
  },
  {
   "cell_type": "code",
   "execution_count": 7,
   "metadata": {},
   "outputs": [
    {
     "name": "stdout",
     "output_type": "stream",
     "text": [
      "Baseline Accuracy: 0.9474\n"
     ]
    }
   ],
   "source": [
    "# Let us first define our baseline as the Accuracy score\n",
    "# considering that we classify every firm as not bankrupt\n",
    "acc_baseline = y_train.value_counts(normalize=True).max()\n",
    "print(\"Baseline Accuracy:\", round(acc_baseline, 4))"
   ]
  },
  {
   "attachments": {},
   "cell_type": "markdown",
   "metadata": {},
   "source": [
    "## Iterating"
   ]
  },
  {
   "cell_type": "code",
   "execution_count": 10,
   "metadata": {},
   "outputs": [],
   "source": [
    "# creating classifier pipeline\n",
    "clf = make_pipeline(\n",
    "    SimpleImputer(),\n",
    "    GradientBoostingClassifier()\n",
    ")"
   ]
  },
  {
   "cell_type": "code",
   "execution_count": 8,
   "metadata": {},
   "outputs": [
    {
     "data": {
      "text/plain": [
       "{'simpleimputer__strategy': ['mean', 'median'],\n",
       " 'gradientboostingclassifier__n_estimators': range(20, 31, 5),\n",
       " 'gradientboostingclassifier__max_depth': range(2, 5)}"
      ]
     },
     "execution_count": 8,
     "metadata": {},
     "output_type": "execute_result"
    }
   ],
   "source": [
    "# defining params for the classifier gridsearch\n",
    "params = {\n",
    "    \"simpleimputer__strategy\": [\"mean\", \"median\"],\n",
    "    \"gradientboostingclassifier__n_estimators\": range(20, 31, 5),\n",
    "    \"gradientboostingclassifier__max_depth\": range(2, 5)\n",
    "}\n",
    "params"
   ]
  },
  {
   "cell_type": "code",
   "execution_count": 11,
   "metadata": {},
   "outputs": [],
   "source": [
    "# assigning gridsearch object to model variable\n",
    "model = GridSearchCV(clf, param_grid=params, cv=5, n_jobs=-1, verbose=1)"
   ]
  },
  {
   "cell_type": "code",
   "execution_count": 12,
   "metadata": {},
   "outputs": [
    {
     "name": "stdout",
     "output_type": "stream",
     "text": [
      "Fitting 5 folds for each of 18 candidates, totalling 90 fits\n"
     ]
    },
    {
     "data": {
      "text/html": [
       "<style>#sk-container-id-1 {color: black;background-color: white;}#sk-container-id-1 pre{padding: 0;}#sk-container-id-1 div.sk-toggleable {background-color: white;}#sk-container-id-1 label.sk-toggleable__label {cursor: pointer;display: block;width: 100%;margin-bottom: 0;padding: 0.3em;box-sizing: border-box;text-align: center;}#sk-container-id-1 label.sk-toggleable__label-arrow:before {content: \"▸\";float: left;margin-right: 0.25em;color: #696969;}#sk-container-id-1 label.sk-toggleable__label-arrow:hover:before {color: black;}#sk-container-id-1 div.sk-estimator:hover label.sk-toggleable__label-arrow:before {color: black;}#sk-container-id-1 div.sk-toggleable__content {max-height: 0;max-width: 0;overflow: hidden;text-align: left;background-color: #f0f8ff;}#sk-container-id-1 div.sk-toggleable__content pre {margin: 0.2em;color: black;border-radius: 0.25em;background-color: #f0f8ff;}#sk-container-id-1 input.sk-toggleable__control:checked~div.sk-toggleable__content {max-height: 200px;max-width: 100%;overflow: auto;}#sk-container-id-1 input.sk-toggleable__control:checked~label.sk-toggleable__label-arrow:before {content: \"▾\";}#sk-container-id-1 div.sk-estimator input.sk-toggleable__control:checked~label.sk-toggleable__label {background-color: #d4ebff;}#sk-container-id-1 div.sk-label input.sk-toggleable__control:checked~label.sk-toggleable__label {background-color: #d4ebff;}#sk-container-id-1 input.sk-hidden--visually {border: 0;clip: rect(1px 1px 1px 1px);clip: rect(1px, 1px, 1px, 1px);height: 1px;margin: -1px;overflow: hidden;padding: 0;position: absolute;width: 1px;}#sk-container-id-1 div.sk-estimator {font-family: monospace;background-color: #f0f8ff;border: 1px dotted black;border-radius: 0.25em;box-sizing: border-box;margin-bottom: 0.5em;}#sk-container-id-1 div.sk-estimator:hover {background-color: #d4ebff;}#sk-container-id-1 div.sk-parallel-item::after {content: \"\";width: 100%;border-bottom: 1px solid gray;flex-grow: 1;}#sk-container-id-1 div.sk-label:hover label.sk-toggleable__label {background-color: #d4ebff;}#sk-container-id-1 div.sk-serial::before {content: \"\";position: absolute;border-left: 1px solid gray;box-sizing: border-box;top: 0;bottom: 0;left: 50%;z-index: 0;}#sk-container-id-1 div.sk-serial {display: flex;flex-direction: column;align-items: center;background-color: white;padding-right: 0.2em;padding-left: 0.2em;position: relative;}#sk-container-id-1 div.sk-item {position: relative;z-index: 1;}#sk-container-id-1 div.sk-parallel {display: flex;align-items: stretch;justify-content: center;background-color: white;position: relative;}#sk-container-id-1 div.sk-item::before, #sk-container-id-1 div.sk-parallel-item::before {content: \"\";position: absolute;border-left: 1px solid gray;box-sizing: border-box;top: 0;bottom: 0;left: 50%;z-index: -1;}#sk-container-id-1 div.sk-parallel-item {display: flex;flex-direction: column;z-index: 1;position: relative;background-color: white;}#sk-container-id-1 div.sk-parallel-item:first-child::after {align-self: flex-end;width: 50%;}#sk-container-id-1 div.sk-parallel-item:last-child::after {align-self: flex-start;width: 50%;}#sk-container-id-1 div.sk-parallel-item:only-child::after {width: 0;}#sk-container-id-1 div.sk-dashed-wrapped {border: 1px dashed gray;margin: 0 0.4em 0.5em 0.4em;box-sizing: border-box;padding-bottom: 0.4em;background-color: white;}#sk-container-id-1 div.sk-label label {font-family: monospace;font-weight: bold;display: inline-block;line-height: 1.2em;}#sk-container-id-1 div.sk-label-container {text-align: center;}#sk-container-id-1 div.sk-container {/* jupyter's `normalize.less` sets `[hidden] { display: none; }` but bootstrap.min.css set `[hidden] { display: none !important; }` so we also need the `!important` here to be able to override the default hidden behavior on the sphinx rendered scikit-learn.org. See: https://github.com/scikit-learn/scikit-learn/issues/21755 */display: inline-block !important;position: relative;}#sk-container-id-1 div.sk-text-repr-fallback {display: none;}</style><div id=\"sk-container-id-1\" class=\"sk-top-container\"><div class=\"sk-text-repr-fallback\"><pre>GridSearchCV(cv=5,\n",
       "             estimator=Pipeline(steps=[(&#x27;simpleimputer&#x27;, SimpleImputer()),\n",
       "                                       (&#x27;gradientboostingclassifier&#x27;,\n",
       "                                        GradientBoostingClassifier())]),\n",
       "             n_jobs=-1,\n",
       "             param_grid={&#x27;gradientboostingclassifier__max_depth&#x27;: range(2, 5),\n",
       "                         &#x27;gradientboostingclassifier__n_estimators&#x27;: range(20, 31, 5),\n",
       "                         &#x27;simpleimputer__strategy&#x27;: [&#x27;mean&#x27;, &#x27;median&#x27;]},\n",
       "             verbose=1)</pre><b>In a Jupyter environment, please rerun this cell to show the HTML representation or trust the notebook. <br />On GitHub, the HTML representation is unable to render, please try loading this page with nbviewer.org.</b></div><div class=\"sk-container\" hidden><div class=\"sk-item sk-dashed-wrapped\"><div class=\"sk-label-container\"><div class=\"sk-label sk-toggleable\"><input class=\"sk-toggleable__control sk-hidden--visually\" id=\"sk-estimator-id-1\" type=\"checkbox\" ><label for=\"sk-estimator-id-1\" class=\"sk-toggleable__label sk-toggleable__label-arrow\">GridSearchCV</label><div class=\"sk-toggleable__content\"><pre>GridSearchCV(cv=5,\n",
       "             estimator=Pipeline(steps=[(&#x27;simpleimputer&#x27;, SimpleImputer()),\n",
       "                                       (&#x27;gradientboostingclassifier&#x27;,\n",
       "                                        GradientBoostingClassifier())]),\n",
       "             n_jobs=-1,\n",
       "             param_grid={&#x27;gradientboostingclassifier__max_depth&#x27;: range(2, 5),\n",
       "                         &#x27;gradientboostingclassifier__n_estimators&#x27;: range(20, 31, 5),\n",
       "                         &#x27;simpleimputer__strategy&#x27;: [&#x27;mean&#x27;, &#x27;median&#x27;]},\n",
       "             verbose=1)</pre></div></div></div><div class=\"sk-parallel\"><div class=\"sk-parallel-item\"><div class=\"sk-item\"><div class=\"sk-label-container\"><div class=\"sk-label sk-toggleable\"><input class=\"sk-toggleable__control sk-hidden--visually\" id=\"sk-estimator-id-2\" type=\"checkbox\" ><label for=\"sk-estimator-id-2\" class=\"sk-toggleable__label sk-toggleable__label-arrow\">estimator: Pipeline</label><div class=\"sk-toggleable__content\"><pre>Pipeline(steps=[(&#x27;simpleimputer&#x27;, SimpleImputer()),\n",
       "                (&#x27;gradientboostingclassifier&#x27;, GradientBoostingClassifier())])</pre></div></div></div><div class=\"sk-serial\"><div class=\"sk-item\"><div class=\"sk-serial\"><div class=\"sk-item\"><div class=\"sk-estimator sk-toggleable\"><input class=\"sk-toggleable__control sk-hidden--visually\" id=\"sk-estimator-id-3\" type=\"checkbox\" ><label for=\"sk-estimator-id-3\" class=\"sk-toggleable__label sk-toggleable__label-arrow\">SimpleImputer</label><div class=\"sk-toggleable__content\"><pre>SimpleImputer()</pre></div></div></div><div class=\"sk-item\"><div class=\"sk-estimator sk-toggleable\"><input class=\"sk-toggleable__control sk-hidden--visually\" id=\"sk-estimator-id-4\" type=\"checkbox\" ><label for=\"sk-estimator-id-4\" class=\"sk-toggleable__label sk-toggleable__label-arrow\">GradientBoostingClassifier</label><div class=\"sk-toggleable__content\"><pre>GradientBoostingClassifier()</pre></div></div></div></div></div></div></div></div></div></div></div></div>"
      ],
      "text/plain": [
       "GridSearchCV(cv=5,\n",
       "             estimator=Pipeline(steps=[('simpleimputer', SimpleImputer()),\n",
       "                                       ('gradientboostingclassifier',\n",
       "                                        GradientBoostingClassifier())]),\n",
       "             n_jobs=-1,\n",
       "             param_grid={'gradientboostingclassifier__max_depth': range(2, 5),\n",
       "                         'gradientboostingclassifier__n_estimators': range(20, 31, 5),\n",
       "                         'simpleimputer__strategy': ['mean', 'median']},\n",
       "             verbose=1)"
      ]
     },
     "execution_count": 12,
     "metadata": {},
     "output_type": "execute_result"
    }
   ],
   "source": [
    "# training the gridsearch models \n",
    "model.fit(X_train_over, y_train_over)"
   ]
  },
  {
   "cell_type": "code",
   "execution_count": 14,
   "metadata": {},
   "outputs": [
    {
     "data": {
      "text/html": [
       "<div>\n",
       "<style scoped>\n",
       "    .dataframe tbody tr th:only-of-type {\n",
       "        vertical-align: middle;\n",
       "    }\n",
       "\n",
       "    .dataframe tbody tr th {\n",
       "        vertical-align: top;\n",
       "    }\n",
       "\n",
       "    .dataframe thead th {\n",
       "        text-align: right;\n",
       "    }\n",
       "</style>\n",
       "<table border=\"1\" class=\"dataframe\">\n",
       "  <thead>\n",
       "    <tr style=\"text-align: right;\">\n",
       "      <th></th>\n",
       "      <th>mean_fit_time</th>\n",
       "      <th>std_fit_time</th>\n",
       "      <th>mean_score_time</th>\n",
       "      <th>std_score_time</th>\n",
       "      <th>param_gradientboostingclassifier__max_depth</th>\n",
       "      <th>param_gradientboostingclassifier__n_estimators</th>\n",
       "      <th>param_simpleimputer__strategy</th>\n",
       "      <th>params</th>\n",
       "      <th>split0_test_score</th>\n",
       "      <th>split1_test_score</th>\n",
       "      <th>split2_test_score</th>\n",
       "      <th>split3_test_score</th>\n",
       "      <th>split4_test_score</th>\n",
       "      <th>mean_test_score</th>\n",
       "      <th>std_test_score</th>\n",
       "      <th>rank_test_score</th>\n",
       "    </tr>\n",
       "  </thead>\n",
       "  <tbody>\n",
       "    <tr>\n",
       "      <th>16</th>\n",
       "      <td>21.727220</td>\n",
       "      <td>0.270894</td>\n",
       "      <td>0.018998</td>\n",
       "      <td>0.001092</td>\n",
       "      <td>4</td>\n",
       "      <td>30</td>\n",
       "      <td>mean</td>\n",
       "      <td>{'gradientboostingclassifier__max_depth': 4, '...</td>\n",
       "      <td>0.915460</td>\n",
       "      <td>0.914449</td>\n",
       "      <td>0.904650</td>\n",
       "      <td>0.914420</td>\n",
       "      <td>0.914420</td>\n",
       "      <td>0.912680</td>\n",
       "      <td>0.004035</td>\n",
       "      <td>1</td>\n",
       "    </tr>\n",
       "    <tr>\n",
       "      <th>17</th>\n",
       "      <td>18.285894</td>\n",
       "      <td>3.326367</td>\n",
       "      <td>0.012398</td>\n",
       "      <td>0.002796</td>\n",
       "      <td>4</td>\n",
       "      <td>30</td>\n",
       "      <td>median</td>\n",
       "      <td>{'gradientboostingclassifier__max_depth': 4, '...</td>\n",
       "      <td>0.917481</td>\n",
       "      <td>0.902324</td>\n",
       "      <td>0.900270</td>\n",
       "      <td>0.904987</td>\n",
       "      <td>0.907682</td>\n",
       "      <td>0.906549</td>\n",
       "      <td>0.006008</td>\n",
       "      <td>2</td>\n",
       "    </tr>\n",
       "    <tr>\n",
       "      <th>14</th>\n",
       "      <td>18.116743</td>\n",
       "      <td>0.246235</td>\n",
       "      <td>0.018203</td>\n",
       "      <td>0.001468</td>\n",
       "      <td>4</td>\n",
       "      <td>25</td>\n",
       "      <td>mean</td>\n",
       "      <td>{'gradientboostingclassifier__max_depth': 4, '...</td>\n",
       "      <td>0.903334</td>\n",
       "      <td>0.906029</td>\n",
       "      <td>0.902291</td>\n",
       "      <td>0.906334</td>\n",
       "      <td>0.900943</td>\n",
       "      <td>0.903786</td>\n",
       "      <td>0.002100</td>\n",
       "      <td>3</td>\n",
       "    </tr>\n",
       "    <tr>\n",
       "      <th>15</th>\n",
       "      <td>18.339265</td>\n",
       "      <td>0.154117</td>\n",
       "      <td>0.020667</td>\n",
       "      <td>0.002741</td>\n",
       "      <td>4</td>\n",
       "      <td>25</td>\n",
       "      <td>median</td>\n",
       "      <td>{'gradientboostingclassifier__max_depth': 4, '...</td>\n",
       "      <td>0.901987</td>\n",
       "      <td>0.891883</td>\n",
       "      <td>0.893868</td>\n",
       "      <td>0.897237</td>\n",
       "      <td>0.899596</td>\n",
       "      <td>0.896914</td>\n",
       "      <td>0.003678</td>\n",
       "      <td>4</td>\n",
       "    </tr>\n",
       "    <tr>\n",
       "      <th>12</th>\n",
       "      <td>14.405308</td>\n",
       "      <td>0.180659</td>\n",
       "      <td>0.018243</td>\n",
       "      <td>0.001196</td>\n",
       "      <td>4</td>\n",
       "      <td>20</td>\n",
       "      <td>mean</td>\n",
       "      <td>{'gradientboostingclassifier__max_depth': 4, '...</td>\n",
       "      <td>0.894240</td>\n",
       "      <td>0.895925</td>\n",
       "      <td>0.892520</td>\n",
       "      <td>0.895553</td>\n",
       "      <td>0.889825</td>\n",
       "      <td>0.893613</td>\n",
       "      <td>0.002238</td>\n",
       "      <td>5</td>\n",
       "    </tr>\n",
       "    <tr>\n",
       "      <th>13</th>\n",
       "      <td>14.576188</td>\n",
       "      <td>0.106182</td>\n",
       "      <td>0.020998</td>\n",
       "      <td>0.003100</td>\n",
       "      <td>4</td>\n",
       "      <td>20</td>\n",
       "      <td>median</td>\n",
       "      <td>{'gradientboostingclassifier__max_depth': 4, '...</td>\n",
       "      <td>0.889525</td>\n",
       "      <td>0.886494</td>\n",
       "      <td>0.885445</td>\n",
       "      <td>0.890836</td>\n",
       "      <td>0.886456</td>\n",
       "      <td>0.887751</td>\n",
       "      <td>0.002061</td>\n",
       "      <td>6</td>\n",
       "    </tr>\n",
       "    <tr>\n",
       "      <th>10</th>\n",
       "      <td>16.599296</td>\n",
       "      <td>0.171524</td>\n",
       "      <td>0.020999</td>\n",
       "      <td>0.003285</td>\n",
       "      <td>3</td>\n",
       "      <td>30</td>\n",
       "      <td>mean</td>\n",
       "      <td>{'gradientboostingclassifier__max_depth': 3, '...</td>\n",
       "      <td>0.867295</td>\n",
       "      <td>0.878747</td>\n",
       "      <td>0.871294</td>\n",
       "      <td>0.868598</td>\n",
       "      <td>0.863544</td>\n",
       "      <td>0.869896</td>\n",
       "      <td>0.005081</td>\n",
       "      <td>7</td>\n",
       "    </tr>\n",
       "    <tr>\n",
       "      <th>11</th>\n",
       "      <td>16.699896</td>\n",
       "      <td>0.135926</td>\n",
       "      <td>0.018007</td>\n",
       "      <td>0.000885</td>\n",
       "      <td>3</td>\n",
       "      <td>30</td>\n",
       "      <td>median</td>\n",
       "      <td>{'gradientboostingclassifier__max_depth': 3, '...</td>\n",
       "      <td>0.866285</td>\n",
       "      <td>0.864938</td>\n",
       "      <td>0.859501</td>\n",
       "      <td>0.870957</td>\n",
       "      <td>0.864218</td>\n",
       "      <td>0.865180</td>\n",
       "      <td>0.003683</td>\n",
       "      <td>8</td>\n",
       "    </tr>\n",
       "    <tr>\n",
       "      <th>8</th>\n",
       "      <td>14.455332</td>\n",
       "      <td>0.265054</td>\n",
       "      <td>0.018008</td>\n",
       "      <td>0.001798</td>\n",
       "      <td>3</td>\n",
       "      <td>25</td>\n",
       "      <td>mean</td>\n",
       "      <td>{'gradientboostingclassifier__max_depth': 3, '...</td>\n",
       "      <td>0.858538</td>\n",
       "      <td>0.874368</td>\n",
       "      <td>0.865566</td>\n",
       "      <td>0.864892</td>\n",
       "      <td>0.858154</td>\n",
       "      <td>0.864304</td>\n",
       "      <td>0.005904</td>\n",
       "      <td>9</td>\n",
       "    </tr>\n",
       "    <tr>\n",
       "      <th>9</th>\n",
       "      <td>14.214571</td>\n",
       "      <td>0.061098</td>\n",
       "      <td>0.028400</td>\n",
       "      <td>0.022322</td>\n",
       "      <td>3</td>\n",
       "      <td>25</td>\n",
       "      <td>median</td>\n",
       "      <td>{'gradientboostingclassifier__max_depth': 3, '...</td>\n",
       "      <td>0.860896</td>\n",
       "      <td>0.860896</td>\n",
       "      <td>0.848383</td>\n",
       "      <td>0.863881</td>\n",
       "      <td>0.858154</td>\n",
       "      <td>0.858442</td>\n",
       "      <td>0.005346</td>\n",
       "      <td>10</td>\n",
       "    </tr>\n",
       "    <tr>\n",
       "      <th>6</th>\n",
       "      <td>12.504737</td>\n",
       "      <td>0.240873</td>\n",
       "      <td>0.019205</td>\n",
       "      <td>0.000978</td>\n",
       "      <td>3</td>\n",
       "      <td>20</td>\n",
       "      <td>mean</td>\n",
       "      <td>{'gradientboostingclassifier__max_depth': 3, '...</td>\n",
       "      <td>0.859885</td>\n",
       "      <td>0.857865</td>\n",
       "      <td>0.853774</td>\n",
       "      <td>0.861860</td>\n",
       "      <td>0.847372</td>\n",
       "      <td>0.856151</td>\n",
       "      <td>0.005142</td>\n",
       "      <td>11</td>\n",
       "    </tr>\n",
       "    <tr>\n",
       "      <th>7</th>\n",
       "      <td>12.999276</td>\n",
       "      <td>0.180856</td>\n",
       "      <td>0.017199</td>\n",
       "      <td>0.000748</td>\n",
       "      <td>3</td>\n",
       "      <td>20</td>\n",
       "      <td>median</td>\n",
       "      <td>{'gradientboostingclassifier__max_depth': 3, '...</td>\n",
       "      <td>0.841698</td>\n",
       "      <td>0.845402</td>\n",
       "      <td>0.841644</td>\n",
       "      <td>0.854111</td>\n",
       "      <td>0.851078</td>\n",
       "      <td>0.846787</td>\n",
       "      <td>0.005026</td>\n",
       "      <td>12</td>\n",
       "    </tr>\n",
       "    <tr>\n",
       "      <th>4</th>\n",
       "      <td>12.569881</td>\n",
       "      <td>0.116158</td>\n",
       "      <td>0.021007</td>\n",
       "      <td>0.001904</td>\n",
       "      <td>2</td>\n",
       "      <td>30</td>\n",
       "      <td>mean</td>\n",
       "      <td>{'gradientboostingclassifier__max_depth': 2, '...</td>\n",
       "      <td>0.814752</td>\n",
       "      <td>0.821826</td>\n",
       "      <td>0.828167</td>\n",
       "      <td>0.821429</td>\n",
       "      <td>0.817722</td>\n",
       "      <td>0.820779</td>\n",
       "      <td>0.004511</td>\n",
       "      <td>13</td>\n",
       "    </tr>\n",
       "    <tr>\n",
       "      <th>2</th>\n",
       "      <td>10.612689</td>\n",
       "      <td>0.134398</td>\n",
       "      <td>0.022595</td>\n",
       "      <td>0.006920</td>\n",
       "      <td>2</td>\n",
       "      <td>25</td>\n",
       "      <td>mean</td>\n",
       "      <td>{'gradientboostingclassifier__max_depth': 2, '...</td>\n",
       "      <td>0.811047</td>\n",
       "      <td>0.808353</td>\n",
       "      <td>0.809299</td>\n",
       "      <td>0.816375</td>\n",
       "      <td>0.805256</td>\n",
       "      <td>0.810066</td>\n",
       "      <td>0.003672</td>\n",
       "      <td>14</td>\n",
       "    </tr>\n",
       "    <tr>\n",
       "      <th>0</th>\n",
       "      <td>6.881787</td>\n",
       "      <td>0.246852</td>\n",
       "      <td>0.030744</td>\n",
       "      <td>0.017371</td>\n",
       "      <td>2</td>\n",
       "      <td>20</td>\n",
       "      <td>mean</td>\n",
       "      <td>{'gradientboostingclassifier__max_depth': 2, '...</td>\n",
       "      <td>0.800269</td>\n",
       "      <td>0.806669</td>\n",
       "      <td>0.811995</td>\n",
       "      <td>0.808625</td>\n",
       "      <td>0.790431</td>\n",
       "      <td>0.803598</td>\n",
       "      <td>0.007611</td>\n",
       "      <td>15</td>\n",
       "    </tr>\n",
       "    <tr>\n",
       "      <th>5</th>\n",
       "      <td>12.851989</td>\n",
       "      <td>0.100081</td>\n",
       "      <td>0.020601</td>\n",
       "      <td>0.001745</td>\n",
       "      <td>2</td>\n",
       "      <td>30</td>\n",
       "      <td>median</td>\n",
       "      <td>{'gradientboostingclassifier__max_depth': 2, '...</td>\n",
       "      <td>0.803638</td>\n",
       "      <td>0.800943</td>\n",
       "      <td>0.786725</td>\n",
       "      <td>0.791442</td>\n",
       "      <td>0.789420</td>\n",
       "      <td>0.794434</td>\n",
       "      <td>0.006642</td>\n",
       "      <td>16</td>\n",
       "    </tr>\n",
       "    <tr>\n",
       "      <th>3</th>\n",
       "      <td>10.793594</td>\n",
       "      <td>0.135115</td>\n",
       "      <td>0.021562</td>\n",
       "      <td>0.003386</td>\n",
       "      <td>2</td>\n",
       "      <td>25</td>\n",
       "      <td>median</td>\n",
       "      <td>{'gradientboostingclassifier__max_depth': 2, '...</td>\n",
       "      <td>0.797575</td>\n",
       "      <td>0.785450</td>\n",
       "      <td>0.786051</td>\n",
       "      <td>0.783693</td>\n",
       "      <td>0.780660</td>\n",
       "      <td>0.786686</td>\n",
       "      <td>0.005758</td>\n",
       "      <td>17</td>\n",
       "    </tr>\n",
       "    <tr>\n",
       "      <th>1</th>\n",
       "      <td>7.762102</td>\n",
       "      <td>0.873784</td>\n",
       "      <td>0.019399</td>\n",
       "      <td>0.002334</td>\n",
       "      <td>2</td>\n",
       "      <td>20</td>\n",
       "      <td>median</td>\n",
       "      <td>{'gradientboostingclassifier__max_depth': 2, '...</td>\n",
       "      <td>0.789828</td>\n",
       "      <td>0.783429</td>\n",
       "      <td>0.784030</td>\n",
       "      <td>0.781671</td>\n",
       "      <td>0.773585</td>\n",
       "      <td>0.782509</td>\n",
       "      <td>0.005236</td>\n",
       "      <td>18</td>\n",
       "    </tr>\n",
       "  </tbody>\n",
       "</table>\n",
       "</div>"
      ],
      "text/plain": [
       "    mean_fit_time  std_fit_time  mean_score_time  std_score_time   \n",
       "16      21.727220      0.270894         0.018998        0.001092  \\\n",
       "17      18.285894      3.326367         0.012398        0.002796   \n",
       "14      18.116743      0.246235         0.018203        0.001468   \n",
       "15      18.339265      0.154117         0.020667        0.002741   \n",
       "12      14.405308      0.180659         0.018243        0.001196   \n",
       "13      14.576188      0.106182         0.020998        0.003100   \n",
       "10      16.599296      0.171524         0.020999        0.003285   \n",
       "11      16.699896      0.135926         0.018007        0.000885   \n",
       "8       14.455332      0.265054         0.018008        0.001798   \n",
       "9       14.214571      0.061098         0.028400        0.022322   \n",
       "6       12.504737      0.240873         0.019205        0.000978   \n",
       "7       12.999276      0.180856         0.017199        0.000748   \n",
       "4       12.569881      0.116158         0.021007        0.001904   \n",
       "2       10.612689      0.134398         0.022595        0.006920   \n",
       "0        6.881787      0.246852         0.030744        0.017371   \n",
       "5       12.851989      0.100081         0.020601        0.001745   \n",
       "3       10.793594      0.135115         0.021562        0.003386   \n",
       "1        7.762102      0.873784         0.019399        0.002334   \n",
       "\n",
       "   param_gradientboostingclassifier__max_depth   \n",
       "16                                           4  \\\n",
       "17                                           4   \n",
       "14                                           4   \n",
       "15                                           4   \n",
       "12                                           4   \n",
       "13                                           4   \n",
       "10                                           3   \n",
       "11                                           3   \n",
       "8                                            3   \n",
       "9                                            3   \n",
       "6                                            3   \n",
       "7                                            3   \n",
       "4                                            2   \n",
       "2                                            2   \n",
       "0                                            2   \n",
       "5                                            2   \n",
       "3                                            2   \n",
       "1                                            2   \n",
       "\n",
       "   param_gradientboostingclassifier__n_estimators   \n",
       "16                                             30  \\\n",
       "17                                             30   \n",
       "14                                             25   \n",
       "15                                             25   \n",
       "12                                             20   \n",
       "13                                             20   \n",
       "10                                             30   \n",
       "11                                             30   \n",
       "8                                              25   \n",
       "9                                              25   \n",
       "6                                              20   \n",
       "7                                              20   \n",
       "4                                              30   \n",
       "2                                              25   \n",
       "0                                              20   \n",
       "5                                              30   \n",
       "3                                              25   \n",
       "1                                              20   \n",
       "\n",
       "   param_simpleimputer__strategy   \n",
       "16                          mean  \\\n",
       "17                        median   \n",
       "14                          mean   \n",
       "15                        median   \n",
       "12                          mean   \n",
       "13                        median   \n",
       "10                          mean   \n",
       "11                        median   \n",
       "8                           mean   \n",
       "9                         median   \n",
       "6                           mean   \n",
       "7                         median   \n",
       "4                           mean   \n",
       "2                           mean   \n",
       "0                           mean   \n",
       "5                         median   \n",
       "3                         median   \n",
       "1                         median   \n",
       "\n",
       "                                               params  split0_test_score   \n",
       "16  {'gradientboostingclassifier__max_depth': 4, '...           0.915460  \\\n",
       "17  {'gradientboostingclassifier__max_depth': 4, '...           0.917481   \n",
       "14  {'gradientboostingclassifier__max_depth': 4, '...           0.903334   \n",
       "15  {'gradientboostingclassifier__max_depth': 4, '...           0.901987   \n",
       "12  {'gradientboostingclassifier__max_depth': 4, '...           0.894240   \n",
       "13  {'gradientboostingclassifier__max_depth': 4, '...           0.889525   \n",
       "10  {'gradientboostingclassifier__max_depth': 3, '...           0.867295   \n",
       "11  {'gradientboostingclassifier__max_depth': 3, '...           0.866285   \n",
       "8   {'gradientboostingclassifier__max_depth': 3, '...           0.858538   \n",
       "9   {'gradientboostingclassifier__max_depth': 3, '...           0.860896   \n",
       "6   {'gradientboostingclassifier__max_depth': 3, '...           0.859885   \n",
       "7   {'gradientboostingclassifier__max_depth': 3, '...           0.841698   \n",
       "4   {'gradientboostingclassifier__max_depth': 2, '...           0.814752   \n",
       "2   {'gradientboostingclassifier__max_depth': 2, '...           0.811047   \n",
       "0   {'gradientboostingclassifier__max_depth': 2, '...           0.800269   \n",
       "5   {'gradientboostingclassifier__max_depth': 2, '...           0.803638   \n",
       "3   {'gradientboostingclassifier__max_depth': 2, '...           0.797575   \n",
       "1   {'gradientboostingclassifier__max_depth': 2, '...           0.789828   \n",
       "\n",
       "    split1_test_score  split2_test_score  split3_test_score   \n",
       "16           0.914449           0.904650           0.914420  \\\n",
       "17           0.902324           0.900270           0.904987   \n",
       "14           0.906029           0.902291           0.906334   \n",
       "15           0.891883           0.893868           0.897237   \n",
       "12           0.895925           0.892520           0.895553   \n",
       "13           0.886494           0.885445           0.890836   \n",
       "10           0.878747           0.871294           0.868598   \n",
       "11           0.864938           0.859501           0.870957   \n",
       "8            0.874368           0.865566           0.864892   \n",
       "9            0.860896           0.848383           0.863881   \n",
       "6            0.857865           0.853774           0.861860   \n",
       "7            0.845402           0.841644           0.854111   \n",
       "4            0.821826           0.828167           0.821429   \n",
       "2            0.808353           0.809299           0.816375   \n",
       "0            0.806669           0.811995           0.808625   \n",
       "5            0.800943           0.786725           0.791442   \n",
       "3            0.785450           0.786051           0.783693   \n",
       "1            0.783429           0.784030           0.781671   \n",
       "\n",
       "    split4_test_score  mean_test_score  std_test_score  rank_test_score  \n",
       "16           0.914420         0.912680        0.004035                1  \n",
       "17           0.907682         0.906549        0.006008                2  \n",
       "14           0.900943         0.903786        0.002100                3  \n",
       "15           0.899596         0.896914        0.003678                4  \n",
       "12           0.889825         0.893613        0.002238                5  \n",
       "13           0.886456         0.887751        0.002061                6  \n",
       "10           0.863544         0.869896        0.005081                7  \n",
       "11           0.864218         0.865180        0.003683                8  \n",
       "8            0.858154         0.864304        0.005904                9  \n",
       "9            0.858154         0.858442        0.005346               10  \n",
       "6            0.847372         0.856151        0.005142               11  \n",
       "7            0.851078         0.846787        0.005026               12  \n",
       "4            0.817722         0.820779        0.004511               13  \n",
       "2            0.805256         0.810066        0.003672               14  \n",
       "0            0.790431         0.803598        0.007611               15  \n",
       "5            0.789420         0.794434        0.006642               16  \n",
       "3            0.780660         0.786686        0.005758               17  \n",
       "1            0.773585         0.782509        0.005236               18  "
      ]
     },
     "execution_count": 14,
     "metadata": {},
     "output_type": "execute_result"
    }
   ],
   "source": [
    "# visualizing gridsearch models training results\n",
    "results = pd.DataFrame(model.cv_results_)\n",
    "results.sort_values(\"rank_test_score\")"
   ]
  },
  {
   "cell_type": "code",
   "execution_count": 15,
   "metadata": {},
   "outputs": [
    {
     "data": {
      "text/plain": [
       "{'gradientboostingclassifier__max_depth': 4,\n",
       " 'gradientboostingclassifier__n_estimators': 30,\n",
       " 'simpleimputer__strategy': 'mean'}"
      ]
     },
     "execution_count": 15,
     "metadata": {},
     "output_type": "execute_result"
    }
   ],
   "source": [
    "# verifying best params from gridsearch models training\n",
    "model.best_params_"
   ]
  },
  {
   "attachments": {},
   "cell_type": "markdown",
   "metadata": {},
   "source": [
    "# Evaluating the model"
   ]
  },
  {
   "cell_type": "code",
   "execution_count": 16,
   "metadata": {},
   "outputs": [
    {
     "name": "stdout",
     "output_type": "stream",
     "text": [
      "Training Accuracy: 0.9138\n",
      "Test Accuracy: 0.8964\n"
     ]
    }
   ],
   "source": [
    "# calculating model accuracy for training and test sets\n",
    "acc_train = model.score(X_train_over, y_train_over)\n",
    "acc_test = model.score(X_test, y_test)\n",
    "\n",
    "print(\"Training Accuracy:\", round(acc_train, 4))\n",
    "print(\"Test Accuracy:\", round(acc_test, 4))"
   ]
  },
  {
   "cell_type": "code",
   "execution_count": 17,
   "metadata": {},
   "outputs": [
    {
     "data": {
      "text/plain": [
       "bankrupt\n",
       "0    1856\n",
       "1     103\n",
       "Name: count, dtype: int64"
      ]
     },
     "execution_count": 17,
     "metadata": {},
     "output_type": "execute_result"
    }
   ],
   "source": [
    "# double checking True labels count\n",
    "y_test.value_counts()"
   ]
  },
  {
   "cell_type": "code",
   "execution_count": 18,
   "metadata": {},
   "outputs": [
    {
     "data": {
      "image/png": "[encoded data removed]",
      "text/plain": [
       "<Figure size 640x480 with 2 Axes>"
      ]
     },
     "metadata": {},
     "output_type": "display_data"
    }
   ],
   "source": [
    "# Plot confusion matrix\n",
    "ConfusionMatrixDisplay.from_estimator(model, X_test, y_test);"
   ]
  },
  {
   "attachments": {},
   "cell_type": "markdown",
   "metadata": {},
   "source": [
    "Recall and Precision metrics for our minority class (bankrupt companies):\n",
    "\n",
    "Let's remember how they are calculated:  \n",
    "Recall = True Positives / (True Positives + False Negatives)  \n",
    "Precision measures the proportion of positive predictions made by the model that are actually positive. It is calculated as:  \n",
    "Precision = True Positives / (True Positives + False Positives)"
   ]
  },
  {
   "cell_type": "code",
   "execution_count": 19,
   "metadata": {},
   "outputs": [
    {
     "name": "stdout",
     "output_type": "stream",
     "text": [
      "Recall    =  75.73%\n",
      "Precision =  30.47%\n"
     ]
    }
   ],
   "source": [
    "print(\"Recall    = \", f\"{(78/(78+25)*100):.2f}%\")\n",
    "print(\"Precision = \", f\"{(78/(78+178)*100):.2f}%\")"
   ]
  },
  {
   "cell_type": "code",
   "execution_count": 20,
   "metadata": {},
   "outputs": [
    {
     "name": "stdout",
     "output_type": "stream",
     "text": [
      "              precision    recall  f1-score   support\n",
      "\n",
      "           0       0.99      0.90      0.94      1856\n",
      "           1       0.30      0.76      0.43       103\n",
      "\n",
      "    accuracy                           0.90      1959\n",
      "   macro avg       0.65      0.83      0.69      1959\n",
      "weighted avg       0.95      0.90      0.92      1959\n",
      "\n"
     ]
    }
   ],
   "source": [
    "print(classification_report(y_test, model.predict(X_test)))"
   ]
  },
  {
   "attachments": {},
   "cell_type": "markdown",
   "metadata": {},
   "source": [
    "# Communicating the results"
   ]
  },
  {
   "cell_type": "code",
   "execution_count": 31,
   "metadata": {},
   "outputs": [
    {
     "data": {
      "image/png": "[encoded data removed]",
      "text/plain": [
       "<Figure size 640x480 with 1 Axes>"
      ]
     },
     "metadata": {},
     "output_type": "display_data"
    }
   ],
   "source": [
    "# Get feature names from training data\n",
    "features = X_train_over.columns\n",
    "# Extract importances from model\n",
    "importances = model.best_estimator_.named_steps[\"gradientboostingclassifier\"].feature_importances_\n",
    "# Create a series with feature names and importances\n",
    "feat_imp = pd.Series(importances, index=features).sort_values().rename(data_dictionary.feat_desc)\n",
    "# Plot 10 most important features\n",
    "feat_imp.tail(10).plot(kind=\"barh\")\n",
    "plt.xlabel(\"Gini Importance\")\n",
    "plt.ylabel(\"Feature\")\n",
    "plt.title(\"Feature Importance\");"
   ]
  },
  {
   "cell_type": "code",
   "execution_count": 32,
   "metadata": {},
   "outputs": [],
   "source": [
    "# Save model\n",
    "with open(\"gradboost\", \"wb\") as file:\n",
    "    pickle.dump(model, file)"
   ]
  },
  {
   "cell_type": "code",
   "execution_count": 36,
   "metadata": {},
   "outputs": [
    {
     "name": "stdout",
     "output_type": "stream",
     "text": [
      "GridSearchCV(cv=5,\n",
      "             estimator=Pipeline(steps=[('simpleimputer', SimpleImputer()),\n",
      "                                       ('gradientboostingclassifier',\n",
      "                                        GradientBoostingClassifier())]),\n",
      "             n_jobs=-1,\n",
      "             param_grid={'gradientboostingclassifier__max_depth': range(2, 5),\n",
      "                         'gradientboostingclassifier__n_estimators': range(20, 31, 5),\n",
      "                         'simpleimputer__strategy': ['mean', 'median']},\n",
      "             verbose=1)\n"
     ]
    }
   ],
   "source": [
    "# loading our model to check if it was correctly saved\n",
    "with open(\"gradboost\", \"rb\") as f:\n",
    "    loaded_model = pickle.load(f)\n",
    "\n",
    "print(loaded_model)"
   ]
  },
  {
   "cell_type": "code",
   "execution_count": 37,
   "metadata": {},
   "outputs": [
    {
     "data": {
      "text/plain": [
       "array([0, 0, 1, ..., 0, 0, 0], dtype=int64)"
      ]
     },
     "execution_count": 37,
     "metadata": {},
     "output_type": "execute_result"
    }
   ],
   "source": [
    "# testing loaded model\n",
    "loaded_model.predict(X_test)"
   ]
  },
  {
   "cell_type": "code",
   "execution_count": 39,
   "metadata": {},
   "outputs": [
    {
     "data": {
      "text/plain": [
       "256"
      ]
     },
     "execution_count": 39,
     "metadata": {},
     "output_type": "execute_result"
    }
   ],
   "source": [
    "# double checking number of predicted bankrupt companies (should be 256, 78 TP + 178 FP)\n",
    "loaded_model.predict(X_test).sum()"
   ]
  },
  {
   "attachments": {},
   "cell_type": "markdown",
   "metadata": {},
   "source": [
    "# Comparison between trained models"
   ]
  },
  {
   "attachments": {},
   "cell_type": "markdown",
   "metadata": {},
   "source": [
    "## Decision tree vs. Random Forest vs. Gradient Boosting"
   ]
  },
  {
   "attachments": {},
   "cell_type": "markdown",
   "metadata": {},
   "source": [
    "### Precision vs. Recall curve"
   ]
  },
  {
   "cell_type": "code",
   "execution_count": 40,
   "metadata": {},
   "outputs": [],
   "source": [
    "# loading our decision tree model\n",
    "with open(\"dtree_model\", \"rb\") as f:\n",
    "    dtree_model = pickle.load(f)"
   ]
  },
  {
   "cell_type": "code",
   "execution_count": 41,
   "metadata": {},
   "outputs": [],
   "source": [
    "# loading our random forest model\n",
    "with open(\"randfor\", \"rb\") as f:\n",
    "    randfor_model = pickle.load(f)"
   ]
  },
  {
   "cell_type": "code",
   "execution_count": 42,
   "metadata": {},
   "outputs": [],
   "source": [
    "# loading our gradient boosting model\n",
    "with open(\"gradboost\", \"rb\") as f:\n",
    "    gradboost_model = pickle.load(f)"
   ]
  },
  {
   "cell_type": "code",
   "execution_count": 44,
   "metadata": {},
   "outputs": [],
   "source": [
    "# Calculate precision and recall values for different threshold levels (considering minority class)\n",
    "dt_precision, dt_recall, _ = precision_recall_curve(y_test, dtree_model.predict_proba(X_test)[:, -1])\n",
    "rf_precision, rf_recall, _ = precision_recall_curve(y_test, randfor_model.predict_proba(X_test)[:, -1])\n",
    "gb_precision, gb_recall, _ = precision_recall_curve(y_test, gradboost_model.predict_proba(X_test)[:, -1])"
   ]
  },
  {
   "cell_type": "code",
   "execution_count": 59,
   "metadata": {},
   "outputs": [
    {
     "data": {
      "image/png": "[encoded data removed]",
      "text/plain": [
       "<Figure size 1200x500 with 1 Axes>"
      ]
     },
     "metadata": {},
     "output_type": "display_data"
    }
   ],
   "source": [
    "# Plot the precision-recall curves  and calculating the Area Under the Curve (AUC) for the three classifiers\n",
    "plt.figure(figsize=(12, 5))\n",
    "plt.plot(dt_recall, dt_precision, label=f'Decision Tree model; AUC = {auc(dt_recall, dt_precision):.2f}')\n",
    "plt.plot(rf_recall, rf_precision, label=f'Random Forest model; AUC = {auc(rf_recall, rf_precision):.2f}')\n",
    "plt.plot(gb_recall, gb_precision, label=f'Gradient Boosting model; AUC = {auc(gb_recall, gb_precision):.2f}')\n",
    "\n",
    "# Add labels and legend\n",
    "plt.xlabel('Recall')\n",
    "plt.ylabel('Precision')\n",
    "plt.legend()\n",
    "\n",
    "# Show the plot\n",
    "plt.show()"
   ]
  }
 ],
 "metadata": {
  "kernelspec": {
   "display_name": "venv",
   "language": "python",
   "name": "python3"
  },
  "language_info": {
   "codemirror_mode": {
    "name": "ipython",
    "version": 3
   },
   "file_extension": ".py",
   "mimetype": "text/x-python",
   "name": "python",
   "nbconvert_exporter": "python",
   "pygments_lexer": "ipython3",
   "version": "3.9.12"
  },
  "orig_nbformat": 4
 },
 "nbformat": 4,
 "nbformat_minor": 2
}
